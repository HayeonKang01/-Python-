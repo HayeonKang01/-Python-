{
 "cells": [
  {
   "cell_type": "markdown",
   "id": "4035f54c",
   "metadata": {},
   "source": [
    "# Crawling \n",
    "#### **BeautifulSoup, urllib**"
   ]
  },
  {
   "cell_type": "code",
   "execution_count": 104,
   "id": "f0d9243b",
   "metadata": {},
   "outputs": [],
   "source": [
    "import pandas as pd\n",
    "import numpy as np"
   ]
  },
  {
   "cell_type": "markdown",
   "id": "7a133324",
   "metadata": {},
   "source": [
    "### re.sub(제거할 문자, 대체할 문자, 대상, 바꿀 횟수) \n",
    "    * 바꿀 횟수는 적으면 문자열의 후반부에 제거되지 않는 부분이 생길 수 있으니, 충분히 큰 값을 입력해줬다.\n",
    "    "
   ]
  },
  {
   "cell_type": "markdown",
   "id": "dc407f69",
   "metadata": {},
   "source": [
    "# 워싱턴 포스트의 기사 본문 긁어오기 \n",
    "**크롬에서 들어가야 한다. 페이지에서 마우스 우클릭 후 '검사'를 클릭하면 아래와 같이 웹코드를 볼 수 있다** <br>\n",
    "오른쪽 화면의 상단 바 중 가장 왼쪽의 마우스 모양 아이콘을 클릭하면 왼쪽 웹페이지에서 긁어오고 싶은 부분을 가리키면 해당 부분의 코드를 볼 수 있다. <br> 그렇게 해당 부분을 찾았으면, 코드에서 마우스 왼클릭 후 copy -> copy select 하면 파이썬 크롤러에 넣을 경로가 자동으로 복사된다."
   ]
  },
  {
   "cell_type": "markdown",
   "id": "cbb1e3d0",
   "metadata": {},
   "source": [
    "![](./nn.png)"
   ]
  },
  {
   "cell_type": "code",
   "execution_count": 97,
   "id": "2e97484f",
   "metadata": {
    "scrolled": false
   },
   "outputs": [
    {
     "name": "stdout",
     "output_type": "stream",
     "text": [
      "A group of Amazon warehouse workers in Staten Island withdrew their petition to hold a unionization vote Friday after the National Labor Relations Board told the union it did not have enough support to call the election.WpGet the full experience.Choose your planArrowRightThe Amazon Labor Union, an independent organization established to represent workers at the facility, pulled the petition after hearing from the agency that the number of signed cards from workers authorizing the union to negotiate on their behalf didn’t meet its threshold, union leader Chris Smalls said. The agency “blindsided” him with the news.“We thought we were good,” Smalls said.The NLRB typically requires authorization cards signed by at least 30 percent of the proposed negotiating unit.Story continues below advertisementWhen Smalls filed the petition to hold the vote last month, he said more than 2,000 workers signed authorization cards. Smalls said he has received hundreds of cards since the filing. Last week, Amazon filed documents with the agency saying it had submitted a payroll list of 9,660 workers at the Staten Island facility.AdvertisementSmalls said he expects the union will refile its petition to hold the vote soon.Amazon warehouse workers in New York file for unionization pushAmazon spokeswoman Kelly Nantel said the company learned that the petition was withdrawn Friday.“Our focus remains on listening directly to our employees and continuously improving on their behalf,” Nantel said in a emailed statement.(Amazon founder Jeff Bezos owns The Washington Post.)Story continues below advertisementNLRB spokeswoman Kayla Blado said the union could refile a petition to hold an election at a later date. She declined to say whether the agency contacted the union about the deficiency in the number of signed authorization cards.Amazon warehouse workers on Staten Island seek union voteEarlier this week, Smalls told The Post that he had added enough signed authorization cards to still qualify for a vote, given Amazon’s workforce claims.The NLRB had scheduled a hearing for Nov. 22, during which it would have heard from the union and Amazon regarding whether the union had collected enough valid cards to call a vote.AdvertisementThe withdrawn petition is the latest setback for unionization at Amazon. The company fended off a high-profile organizing drive by the Retail, Wholesale and Department Store Union in April when workers at a Bessemer, Ala., warehouse overwhelmingly rejected unionization by a more than 2-to-1 margin. In August, an NLRB hearing officer recommended that the results be scrapped and a new election be held, after determining that the company improperly pressured workers to oppose unionization. The agency has yet to rule on those recommendations.Story continues below advertisementSmalls created his own independent union to take on Amazon. He said the Amazon Labor Union had a better chance of success because it was not relying on a large trade labor group to make its case to warehouse workers.Smalls had worked at Amazon as a process assistant, a management job overseeing operations of workers picking items to be shipped to customers. He first gained notoriety at the start of the coronavirus pandemic, when he raised safety concerns at the Staten Island warehouse and led a handful of workers to walk out in March 2020. Smalls pressed Amazon to temporarily close warehouses for cleaning where workers tested positive for the coronavirus, among other demands.Amazon fired Smalls later that day, claiming he violated quarantine, since he had been in contact with a co-worker who tested positive. Smalls said the company hadn’t warned him about not showing up to work.\n"
     ]
    }
   ],
   "source": [
    "import urllib.request \n",
    "from bs4 import BeautifulSoup\n",
    "import re\n",
    "\n",
    "url = 'https://www.washingtonpost.com/technology/2021/11/12/amazon-union-withdraws-staten-island/'\n",
    "response = urllib.request.urlopen(url)\n",
    "\n",
    "soup = BeautifulSoup(response, 'html.parser')\n",
    "\n",
    "results = soup.select_one('#__next > div.relative > main > article > div.article-body')\n",
    "\n",
    "\n",
    "prd_names = re.sub('<.+?>', '', str(results), 500).strip()\n",
    "print(prd_names)"
   ]
  },
  {
   "cell_type": "markdown",
   "id": "c7cabf82",
   "metadata": {},
   "source": [
    "### 문자열 저장\n",
    "- 편법처럼 보이지만.. 판다스 시리즈로 변환해 to_csv 함수를 활용했다. \n",
    "    * to_csv 이지만, 파일 이름의 형식을 txt로 변환해주고 구분자도 지정해주면 텍스트 파일로 저장된다."
   ]
  },
  {
   "cell_type": "code",
   "execution_count": 107,
   "id": "bca18d72",
   "metadata": {},
   "outputs": [],
   "source": [
    "a = pd.Series(prd_names)\n",
    "\n",
    "a.to_csv('sample_file.txt', index=False, header=None, sep=\"\\t\")\n"
   ]
  },
  {
   "cell_type": "markdown",
   "id": "dcf0a938",
   "metadata": {},
   "source": [
    "---"
   ]
  },
  {
   "cell_type": "markdown",
   "id": "995ae73e",
   "metadata": {},
   "source": [
    "## 위키피디아에서 윤동주의 작품명 가져오기\n",
    "\n",
    "![](./y.png)"
   ]
  },
  {
   "cell_type": "code",
   "execution_count": 46,
   "id": "004a8905",
   "metadata": {},
   "outputs": [
    {
     "name": "stdout",
     "output_type": "stream",
     "text": [
      "- 하늘과 바람과 별과 시\n"
     ]
    }
   ],
   "source": [
    "import urllib.request as req\n",
    "\n",
    "url = 'https://ko.wikisource.org/wiki/%EC%A0%80%EC%9E%90:%EC%9C%A4%EB%8F%99%EC%A3%BC'\n",
    "res = req.urlopen(url)\n",
    "soup = BeautifulSoup(res, 'html.parser')\n",
    "\n",
    "\n",
    "# 중간에 nth.~ 있었는데 아예 제외시켜버리니까 작동함. \n",
    "a_list = soup.select_one(\"#mw-content-text > div.mw-parser-output > ul > li > b\")\n",
    "\n",
    "for a in a_list:\n",
    "    name = a.string\n",
    "    print('-', name)"
   ]
  },
  {
   "cell_type": "code",
   "execution_count": 51,
   "id": "2a3eb945",
   "metadata": {
    "scrolled": true
   },
   "outputs": [
    {
     "name": "stdout",
     "output_type": "stream",
     "text": [
      "하늘과 바람과 별과 시\n",
      "증보판\n",
      "서시\n",
      "자화상\n",
      "소년\n",
      "눈 오는 지도\n",
      "돌아와 보는 밤\n",
      "병원\n",
      "새로운 길\n",
      "간판 없는 거리\n",
      "태초의 아침\n",
      "또 태초의 아침\n",
      "새벽이 올 때까지\n",
      "무서운 시간\n",
      "십자가\n",
      "바람이 불어\n",
      "슬픈 족속\n",
      "눈감고 간다\n",
      "또 다른 고향\n",
      "길\n",
      "별 헤는 밤\n",
      "흰 그림자\n",
      "사랑스런 추억\n",
      "흐르는 거리\n",
      "쉽게 씌어진 시\n",
      "봄\n",
      "참회록\n",
      "간(肝)\n",
      "위로\n",
      "팔복\n",
      "못자는밤\n",
      "달같이\n",
      "고추밭\n",
      "아우의 인상화\n",
      "사랑의 전당\n",
      "이적\n",
      "비오는 밤\n",
      "산골물\n",
      "유언\n",
      "창\n",
      "바다\n",
      "비로봉\n",
      "산협의 오후\n",
      "명상\n",
      "소낙비\n",
      "한난계\n",
      "풍경\n",
      "달밤\n",
      "장\n",
      "밤\n",
      "황혼이 바다가 되어\n",
      "아침\n",
      "빨래\n",
      "꿈은 깨어지고\n",
      "산림\n",
      "이런날\n",
      "산상\n",
      "양지쪽\n",
      "닭\n",
      "가슴 1\n",
      "가슴 2\n",
      "비둘기\n",
      "황혼\n",
      "남쪽 하늘\n",
      "창공\n",
      "거리에서\n",
      "삶과 죽음\n",
      "초한대\n",
      "산울림\n",
      "해바라기 얼굴\n",
      "귀뚜라미와 나와\n",
      "애기의 새벽\n",
      "햇빛·바람\n",
      "반디불\n",
      "둘 다\n",
      "거짓부리\n",
      "눈\n",
      "참새\n",
      "버선본\n",
      "편지\n",
      "봄\n",
      "무얼 먹구 사나\n",
      "굴뚝\n",
      "햇비\n",
      "빗자루\n",
      "기왓장 내외\n",
      "오줌싸개 지도\n",
      "병아리\n",
      "조개껍질\n",
      "겨울\n",
      "트루게네프의 언덕\n",
      "달을 쏘다\n",
      "별똥 떨어진 데\n",
      "화원에 꽃이 핀다\n",
      "종시\n"
     ]
    }
   ],
   "source": [
    "url = 'https://ko.wikisource.org/wiki/%EC%A0%80%EC%9E%90:%EC%9C%A4%EB%8F%99%EC%A3%BC'\n",
    "res = req.urlopen(url).read().decode('utf-8')\n",
    "soup = BeautifulSoup(res, 'html.parser')\n",
    "\n",
    "name = soup.select(\"#mw-content-text > div.mw-parser-output > ul > li a\")\n",
    "\n",
    "for name in name:\n",
    "    print(name.string)"
   ]
  },
  {
   "cell_type": "markdown",
   "id": "8fb932cd",
   "metadata": {},
   "source": [
    "### select vs select_one \n",
    "> **결과값 모두 가져오기 vs 하나만 가져오기**"
   ]
  },
  {
   "cell_type": "code",
   "execution_count": null,
   "id": "71e2b5ab",
   "metadata": {},
   "outputs": [],
   "source": []
  }
 ],
 "metadata": {
  "kernelspec": {
   "display_name": "Python 3",
   "language": "python",
   "name": "python3"
  },
  "language_info": {
   "codemirror_mode": {
    "name": "ipython",
    "version": 3
   },
   "file_extension": ".py",
   "mimetype": "text/x-python",
   "name": "python",
   "nbconvert_exporter": "python",
   "pygments_lexer": "ipython3",
   "version": "3.8.8"
  }
 },
 "nbformat": 4,
 "nbformat_minor": 5
}
