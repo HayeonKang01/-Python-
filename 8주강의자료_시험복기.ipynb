{
 "cells": [
  {
   "cell_type": "markdown",
   "id": "c1177d4e",
   "metadata": {},
   "source": [
    "# 1-1. Maching을 Human으로 replace\n",
    "\n"
   ]
  },
  {
   "cell_type": "code",
   "execution_count": 15,
   "id": "207b83c8",
   "metadata": {},
   "outputs": [
    {
     "name": "stdout",
     "output_type": "stream",
     "text": [
      "Human Learning is similar with Human Learning\n"
     ]
    }
   ],
   "source": [
    "str = 'Machine Learning is similar with Human Learning'\n",
    "b = str.replace('Machine', 'Human')\n",
    "print(b)"
   ]
  },
  {
   "cell_type": "markdown",
   "id": "5eb9a02a",
   "metadata": {},
   "source": [
    "#### 사실 교수님의 의도를 모르겠다. 둘을 바꾼다고 하면 Machine은 Human으로, Human은 Machine으로 바꾸라는 의미로 파악했는데..교수님이 알려주신 답은 그냥 machine을 human으로 바꾼 결과다. \n",
    "> ### **그래서 나는 다른 방법을 찾았다.**\n",
    "> - Machine을 Human으로 바꾼 후 다시 replace를 하면 둘이 같이 다 바뀌어버린다. \n",
    "> - 때문에 Machine을 x로, humandmf z로 바꾼 후 replace를 해준다. "
   ]
  },
  {
   "cell_type": "code",
   "execution_count": 18,
   "id": "aa93a0f0",
   "metadata": {},
   "outputs": [
    {
     "data": {
      "text/plain": [
       "'Machine Learning is similar with Human Learning'"
      ]
     },
     "execution_count": 18,
     "metadata": {},
     "output_type": "execute_result"
    }
   ],
   "source": [
    "str"
   ]
  },
  {
   "cell_type": "code",
   "execution_count": 20,
   "id": "e0d3a855",
   "metadata": {},
   "outputs": [
    {
     "data": {
      "text/plain": [
       "'Human Learning is similar with Machine Learning'"
      ]
     },
     "execution_count": 20,
     "metadata": {},
     "output_type": "execute_result"
    }
   ],
   "source": [
    "str.replace('Machine', 'x').replace('Human', 'z').replace('x','Human').replace('z', 'Machine')"
   ]
  },
  {
   "cell_type": "markdown",
   "id": "f7642174",
   "metadata": {},
   "source": [
    "# 1-2"
   ]
  },
  {
   "cell_type": "code",
   "execution_count": 2,
   "id": "54626b38",
   "metadata": {},
   "outputs": [
    {
     "name": "stdout",
     "output_type": "stream",
     "text": [
      "['Human', 'Learning', 'is', 'similar', 'with', 'Human', 'Learning']\n"
     ]
    }
   ],
   "source": [
    "newlist = []\n",
    "newlist = b.split()\n",
    "print(newlist)"
   ]
  },
  {
   "cell_type": "markdown",
   "id": "22cf3605",
   "metadata": {},
   "source": [
    "# 1-3"
   ]
  },
  {
   "cell_type": "code",
   "execution_count": 3,
   "id": "1ba4e6d5",
   "metadata": {},
   "outputs": [
    {
     "name": "stdout",
     "output_type": "stream",
     "text": [
      "단어입력: Human\n",
      "Y\n"
     ]
    }
   ],
   "source": [
    "word = input('단어입력: ')\n",
    "if word in newlist:\n",
    "    print(\"Y\")\n",
    "else:\n",
    "    print('N')"
   ]
  },
  {
   "cell_type": "markdown",
   "id": "c7443cba",
   "metadata": {},
   "source": [
    "# 2 . 소수판별 "
   ]
  },
  {
   "cell_type": "code",
   "execution_count": 4,
   "id": "d675dcb2",
   "metadata": {},
   "outputs": [
    {
     "name": "stdout",
     "output_type": "stream",
     "text": [
      "입력: 13\n",
      "소수이다.\n"
     ]
    }
   ],
   "source": [
    "num = int(input('입력: '))\n",
    "\n",
    "cnt = 0\n",
    "for i in range(1, num+1):\n",
    "    if num%i == 0:\n",
    "        cnt +=1\n",
    "if cnt ==2:\n",
    "    print('소수이다.')\n",
    "else:\n",
    "    print('소수가 아니다.')"
   ]
  },
  {
   "cell_type": "markdown",
   "id": "3bac9704",
   "metadata": {},
   "source": [
    "# 3. 같은 위치의 값 끼리 더하기"
   ]
  },
  {
   "cell_type": "code",
   "execution_count": 5,
   "id": "b0a5c3e2",
   "metadata": {},
   "outputs": [
    {
     "name": "stdout",
     "output_type": "stream",
     "text": [
      "[1, 3, 5, 7, 9]\n"
     ]
    }
   ],
   "source": [
    "a = [1, 2, 3, 4, 5]\n",
    "b = [0, 1, 2, 3, 4]\n",
    "f = lambda x, y: x+y\n",
    "print(list(map(f, a, b)))"
   ]
  },
  {
   "cell_type": "markdown",
   "id": "80abe9df",
   "metadata": {},
   "source": [
    "|흡연|음주|암발병|\n",
    "|-----|-------|------|\n",
    "|True|True|True|\n",
    "|True|True|True|\n",
    "|True|False|True|\n",
    "|True|True|False|\n",
    "|False|False|True|\n",
    "|False|True|False|\n",
    "|False|True|False|\n",
    "|False|True|False|"
   ]
  },
  {
   "cell_type": "code",
   "execution_count": 21,
   "id": "d59ddaef",
   "metadata": {},
   "outputs": [
    {
     "name": "stdout",
     "output_type": "stream",
     "text": [
      "log2 (3/4)는 -0.4150374992788438\n"
     ]
    }
   ],
   "source": [
    "import math \n",
    "print('log2 (3/4)는', math.log2(3/4))"
   ]
  },
  {
   "cell_type": "code",
   "execution_count": 23,
   "id": "a7459ffa",
   "metadata": {},
   "outputs": [
    {
     "data": {
      "text/plain": [
       "1.0"
      ]
     },
     "execution_count": 23,
     "metadata": {},
     "output_type": "execute_result"
    }
   ],
   "source": [
    "분할전_엔트로피 = (-4/8*math.log2(4/8)-4/8*math.log2(4/8))\n",
    "분할전_엔트로피"
   ]
  },
  {
   "cell_type": "code",
   "execution_count": 33,
   "id": "9c5f09ac",
   "metadata": {},
   "outputs": [
    {
     "data": {
      "text/plain": [
       "0.8112781244591328"
      ]
     },
     "execution_count": 33,
     "metadata": {},
     "output_type": "execute_result"
    }
   ],
   "source": [
    "흡연_분할 = 4/8*(-3/4*math.log2(3/4)-1/4*math.log2(1/4))+4/8*(-1/4*math.log2(1/4)-3/4*math.log2(3/4))\n",
    "흡연_분할"
   ]
  },
  {
   "cell_type": "code",
   "execution_count": 35,
   "id": "999ced28",
   "metadata": {},
   "outputs": [
    {
     "data": {
      "text/plain": [
       "0.6887218755408672"
      ]
     },
     "execution_count": 35,
     "metadata": {},
     "output_type": "execute_result"
    }
   ],
   "source": [
    "음주_분할 = 6/8*(-2/6*math.log2(2/6)-4/6*math.log2(4/6))+2/8*(-2/2*math.log2(2/2)-0/2*math.log2(1))\n",
    "음주_분할"
   ]
  },
  {
   "cell_type": "code",
   "execution_count": 36,
   "id": "7147a025",
   "metadata": {},
   "outputs": [
    {
     "data": {
      "text/plain": [
       "0.18872187554086717"
      ]
     },
     "execution_count": 36,
     "metadata": {},
     "output_type": "execute_result"
    }
   ],
   "source": [
    "정보이득 = 분할전_엔트로피 - 흡연_분할\n",
    "정보이득"
   ]
  },
  {
   "cell_type": "code",
   "execution_count": 37,
   "id": "5575191a",
   "metadata": {},
   "outputs": [
    {
     "data": {
      "text/plain": [
       "0.31127812445913283"
      ]
     },
     "execution_count": 37,
     "metadata": {},
     "output_type": "execute_result"
    }
   ],
   "source": [
    "정보이득 = 분할전_엔트로피-음주_분할\n",
    "정보이득"
   ]
  },
  {
   "cell_type": "markdown",
   "id": "84bfb1e0",
   "metadata": {},
   "source": [
    "### 음주를 기준으로 분할했을 때 분할된 노드들의 평균 엔트로피값이 가장 크게 감소하므로 음주를 선택하는것이 정보이득이 가장 높음"
   ]
  },
  {
   "cell_type": "code",
   "execution_count": 41,
   "id": "431a13e2",
   "metadata": {},
   "outputs": [],
   "source": [
    "def get_entropy(left, right):\n",
    "    data_size = left+right\n",
    "    left_size = left/data_size\n",
    "    right_size = right/data_size\n",
    "    \n",
    "    try:\n",
    "        result = -(left_size * math.log(left_size, 2) + right_size * math.log(right_size, 2))\n",
    "    except:\n",
    "        result = 0\n",
    "        return result \n",
    "    else:\n",
    "        return result\n",
    "        "
   ]
  },
  {
   "cell_type": "code",
   "execution_count": 45,
   "id": "4e86a4bf",
   "metadata": {},
   "outputs": [
    {
     "name": "stdout",
     "output_type": "stream",
     "text": [
      "IG(흡연):0.1887\n",
      "ig(음주): 0.3113\n"
     ]
    }
   ],
   "source": [
    "# 흡연 \n",
    "hx1 = 4/8*get_entropy(3,1) + 4/8 * get_entropy(1,3)\n",
    "ig1 = get_entropy(4,4) - hx1\n",
    "print('IG(흡연):%.4f'%ig1)\n",
    "\n",
    "# 음주 \n",
    "hx2 = 6/8 * get_entropy(2, 4) + 2/8 * get_entropy(2,0)\n",
    "ig2 = get_entropy(4,4) - hx2\n",
    "print('ig(음주): %.4f'%ig2)"
   ]
  },
  {
   "cell_type": "code",
   "execution_count": null,
   "id": "e7d41305",
   "metadata": {},
   "outputs": [],
   "source": []
  }
 ],
 "metadata": {
  "kernelspec": {
   "display_name": "Python 3",
   "language": "python",
   "name": "python3"
  },
  "language_info": {
   "codemirror_mode": {
    "name": "ipython",
    "version": 3
   },
   "file_extension": ".py",
   "mimetype": "text/x-python",
   "name": "python",
   "nbconvert_exporter": "python",
   "pygments_lexer": "ipython3",
   "version": "3.8.8"
  }
 },
 "nbformat": 4,
 "nbformat_minor": 5
}
